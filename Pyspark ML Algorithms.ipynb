{
 "cells": [
  {
   "cell_type": "markdown",
   "id": "c9fa7971",
   "metadata": {},
   "source": [
    "### Classification Using PySpark\n",
    "I will demonstrate three classification algorithms.\n",
    "\n",
    "1.NaiveBayes Classification\n",
    "\n",
    "2.Multi-Layer Perceptron Classification\n",
    "\n",
    "3.Decision Trees Classification\n",
    "\n",
    "We explore the supervised classification algorithms using IRIS data"
   ]
  },
  {
   "cell_type": "code",
   "execution_count": 52,
   "id": "43fe3de3",
   "metadata": {},
   "outputs": [],
   "source": [
    "from pyspark.sql import *\n",
    "from pyspark.sql.functions import col\n",
    "from pyspark.ml.feature import VectorAssembler\n",
    "from pyspark.ml.feature import  StringIndexer\n",
    "import pandas as pd"
   ]
  },
  {
   "cell_type": "code",
   "execution_count": 14,
   "id": "4a33b368",
   "metadata": {},
   "outputs": [],
   "source": [
    "\n",
    "spark = SparkSession.builder.appName(\"Classification\").getOrCreate()"
   ]
  },
  {
   "cell_type": "code",
   "execution_count": 46,
   "id": "a20dd55f",
   "metadata": {},
   "outputs": [],
   "source": [
    "# Read the iris data\n",
    "df_iris = pd.read_csv(\"https://raw.githubusercontent.com/amjadraza/blogs-data/master/spark_ml/iris.csv\",header=None)"
   ]
  },
  {
   "cell_type": "code",
   "execution_count": 47,
   "id": "d39fd501",
   "metadata": {},
   "outputs": [
    {
     "data": {
      "text/html": [
       "<div>\n",
       "<style scoped>\n",
       "    .dataframe tbody tr th:only-of-type {\n",
       "        vertical-align: middle;\n",
       "    }\n",
       "\n",
       "    .dataframe tbody tr th {\n",
       "        vertical-align: top;\n",
       "    }\n",
       "\n",
       "    .dataframe thead th {\n",
       "        text-align: right;\n",
       "    }\n",
       "</style>\n",
       "<table border=\"1\" class=\"dataframe\">\n",
       "  <thead>\n",
       "    <tr style=\"text-align: right;\">\n",
       "      <th></th>\n",
       "      <th>0</th>\n",
       "      <th>1</th>\n",
       "      <th>2</th>\n",
       "      <th>3</th>\n",
       "      <th>4</th>\n",
       "    </tr>\n",
       "  </thead>\n",
       "  <tbody>\n",
       "    <tr>\n",
       "      <th>0</th>\n",
       "      <td>5.1</td>\n",
       "      <td>3.5</td>\n",
       "      <td>1.4</td>\n",
       "      <td>0.2</td>\n",
       "      <td>Iris-setosa</td>\n",
       "    </tr>\n",
       "    <tr>\n",
       "      <th>1</th>\n",
       "      <td>4.9</td>\n",
       "      <td>3.0</td>\n",
       "      <td>1.4</td>\n",
       "      <td>0.2</td>\n",
       "      <td>Iris-setosa</td>\n",
       "    </tr>\n",
       "    <tr>\n",
       "      <th>2</th>\n",
       "      <td>4.7</td>\n",
       "      <td>3.2</td>\n",
       "      <td>1.3</td>\n",
       "      <td>0.2</td>\n",
       "      <td>Iris-setosa</td>\n",
       "    </tr>\n",
       "    <tr>\n",
       "      <th>3</th>\n",
       "      <td>4.6</td>\n",
       "      <td>3.1</td>\n",
       "      <td>1.5</td>\n",
       "      <td>0.2</td>\n",
       "      <td>Iris-setosa</td>\n",
       "    </tr>\n",
       "    <tr>\n",
       "      <th>4</th>\n",
       "      <td>5.0</td>\n",
       "      <td>3.6</td>\n",
       "      <td>1.4</td>\n",
       "      <td>0.2</td>\n",
       "      <td>Iris-setosa</td>\n",
       "    </tr>\n",
       "  </tbody>\n",
       "</table>\n",
       "</div>"
      ],
      "text/plain": [
       "     0    1    2    3            4\n",
       "0  5.1  3.5  1.4  0.2  Iris-setosa\n",
       "1  4.9  3.0  1.4  0.2  Iris-setosa\n",
       "2  4.7  3.2  1.3  0.2  Iris-setosa\n",
       "3  4.6  3.1  1.5  0.2  Iris-setosa\n",
       "4  5.0  3.6  1.4  0.2  Iris-setosa"
      ]
     },
     "execution_count": 47,
     "metadata": {},
     "output_type": "execute_result"
    }
   ],
   "source": [
    "df_iris.head()"
   ]
  },
  {
   "cell_type": "code",
   "execution_count": 64,
   "id": "6bc24214",
   "metadata": {},
   "outputs": [],
   "source": [
    "from pyspark.sql.types import StructType,StructField, StringType, IntegerType, FloatType\n",
    "#creating columns\n",
    "schema = StructType([ \\\n",
    "    StructField(\"sepal_length\",FloatType(),True), \\\n",
    "    StructField(\"sepal_width\",FloatType(),True), \\\n",
    "    StructField(\"petal_length\",FloatType(),True), \\\n",
    "    StructField(\"petal_width\", FloatType(), True), \\\n",
    "    StructField(\"species\", StringType(), True) \\\n",
    "  ])\n"
   ]
  },
  {
   "cell_type": "code",
   "execution_count": 65,
   "id": "fb8eb04d",
   "metadata": {},
   "outputs": [],
   "source": [
    "iris_df = spark.createDataFrame(df_iris, schema=schema)"
   ]
  },
  {
   "cell_type": "code",
   "execution_count": 66,
   "id": "82471e16",
   "metadata": {},
   "outputs": [
    {
     "name": "stdout",
     "output_type": "stream",
     "text": [
      "+------------+-----------+------------+-----------+-----------+\n",
      "|sepal_length|sepal_width|petal_length|petal_width|    species|\n",
      "+------------+-----------+------------+-----------+-----------+\n",
      "|         5.1|        3.5|         1.4|        0.2|Iris-setosa|\n",
      "|         4.9|        3.0|         1.4|        0.2|Iris-setosa|\n",
      "+------------+-----------+------------+-----------+-----------+\n",
      "only showing top 2 rows\n",
      "\n"
     ]
    }
   ],
   "source": [
    "iris_df.show(2)"
   ]
  },
  {
   "cell_type": "code",
   "execution_count": 67,
   "id": "76df6ff6",
   "metadata": {},
   "outputs": [],
   "source": [
    "# Converting the columns into features\n",
    "vectorAssembler = VectorAssembler(inputCols = [\"sepal_length\", \"sepal_width\", \"petal_length\", \"petal_width\"],outputCol = \"features\")\n"
   ]
  },
  {
   "cell_type": "code",
   "execution_count": 69,
   "id": "d1c956a9",
   "metadata": {},
   "outputs": [],
   "source": [
    "viris_df = vectorAssembler.transform(iris_df)"
   ]
  },
  {
   "cell_type": "code",
   "execution_count": 70,
   "id": "cde7e468",
   "metadata": {},
   "outputs": [
    {
     "name": "stdout",
     "output_type": "stream",
     "text": [
      "+------------+-----------+------------+-----------+-----------+--------------------+\n",
      "|sepal_length|sepal_width|petal_length|petal_width|    species|            features|\n",
      "+------------+-----------+------------+-----------+-----------+--------------------+\n",
      "|         5.1|        3.5|         1.4|        0.2|Iris-setosa|[5.09999990463256...|\n",
      "|         4.9|        3.0|         1.4|        0.2|Iris-setosa|[4.90000009536743...|\n",
      "+------------+-----------+------------+-----------+-----------+--------------------+\n",
      "only showing top 2 rows\n",
      "\n"
     ]
    }
   ],
   "source": [
    "viris_df.show(2)"
   ]
  },
  {
   "cell_type": "code",
   "execution_count": 71,
   "id": "046b16d2",
   "metadata": {},
   "outputs": [],
   "source": [
    "indexer = StringIndexer(inputCol=\"species\", outputCol = \"label\")"
   ]
  },
  {
   "cell_type": "code",
   "execution_count": 75,
   "id": "f9fd8f1f",
   "metadata": {},
   "outputs": [],
   "source": [
    "ivris_df = indexer.fit(viris_df).transform(viris_df)"
   ]
  },
  {
   "cell_type": "code",
   "execution_count": 80,
   "id": "0b8f85f6",
   "metadata": {},
   "outputs": [
    {
     "name": "stdout",
     "output_type": "stream",
     "text": [
      "+------------+-----------+------------+-----------+-----------+--------------------+-----+\n",
      "|sepal_length|sepal_width|petal_length|petal_width|    species|            features|label|\n",
      "+------------+-----------+------------+-----------+-----------+--------------------+-----+\n",
      "|         5.1|        3.5|         1.4|        0.2|Iris-setosa|[5.09999990463256...|  0.0|\n",
      "|         4.9|        3.0|         1.4|        0.2|Iris-setosa|[4.90000009536743...|  0.0|\n",
      "|         4.7|        3.2|         1.3|        0.2|Iris-setosa|[4.69999980926513...|  0.0|\n",
      "|         4.6|        3.1|         1.5|        0.2|Iris-setosa|[4.59999990463256...|  0.0|\n",
      "|         5.0|        3.6|         1.4|        0.2|Iris-setosa|[5.0,3.5999999046...|  0.0|\n",
      "|         5.4|        3.9|         1.7|        0.4|Iris-setosa|[5.40000009536743...|  0.0|\n",
      "|         4.6|        3.4|         1.4|        0.3|Iris-setosa|[4.59999990463256...|  0.0|\n",
      "|         5.0|        3.4|         1.5|        0.2|Iris-setosa|[5.0,3.4000000953...|  0.0|\n",
      "|         4.4|        2.9|         1.4|        0.2|Iris-setosa|[4.40000009536743...|  0.0|\n",
      "|         4.9|        3.1|         1.5|        0.1|Iris-setosa|[4.90000009536743...|  0.0|\n",
      "+------------+-----------+------------+-----------+-----------+--------------------+-----+\n",
      "only showing top 10 rows\n",
      "\n"
     ]
    }
   ],
   "source": [
    "ivris_df.show(10)"
   ]
  },
  {
   "cell_type": "markdown",
   "id": "f39c2544",
   "metadata": {},
   "source": [
    "### Naive Bayes Classification\n",
    "Once the data is prepared, we are ready to apply the first classification algorithm.\n"
   ]
  },
  {
   "cell_type": "code",
   "execution_count": 81,
   "id": "3229c120",
   "metadata": {},
   "outputs": [],
   "source": [
    "from pyspark.ml.classification import NaiveBayes\n",
    "from pyspark.ml.evaluation import MulticlassClassificationEvaluator"
   ]
  },
  {
   "cell_type": "code",
   "execution_count": 84,
   "id": "342c6f8b",
   "metadata": {},
   "outputs": [
    {
     "name": "stdout",
     "output_type": "stream",
     "text": [
      "+------------+-----------+------------+-----------+-----------+-------------------------------------------------------------+-----+-----------------------------------------------------------+-----------------------------------------------------------+----------+\n",
      "|sepal_length|sepal_width|petal_length|petal_width|species    |features                                                     |label|rawPrediction                                              |probability                                                |prediction|\n",
      "+------------+-----------+------------+-----------+-----------+-------------------------------------------------------------+-----+-----------------------------------------------------------+-----------------------------------------------------------+----------+\n",
      "|4.3         |3.0        |1.1         |0.1        |Iris-setosa|[4.300000190734863,3.0,1.100000023841858,0.10000000149011612]|0.0  |[-9.75709373042928,-11.533008646025936,-11.892055622741834]|[0.7766522467004511,0.1315093268399923,0.09183842645955671]|0.0       |\n",
      "+------------+-----------+------------+-----------+-----------+-------------------------------------------------------------+-----+-----------------------------------------------------------+-----------------------------------------------------------+----------+\n",
      "only showing top 1 row\n",
      "\n"
     ]
    }
   ],
   "source": [
    "# Create the traing and test splits\n",
    "splits = ivris_df.randomSplit([0.6,0.4], 1)\n",
    "train_df = splits[0]\n",
    "test_df = splits[1]\n",
    "# Apply the Naive bayes classifier\n",
    "nb = NaiveBayes(modelType=\"multinomial\")\n",
    "nbmodel = nb.fit(train_df)\n",
    "predictions_df = nbmodel.transform(test_df)\n",
    "\n",
    "predictions_df.show(1, False)"
   ]
  },
  {
   "cell_type": "code",
   "execution_count": 85,
   "id": "9bdfb8e9",
   "metadata": {},
   "outputs": [
    {
     "data": {
      "text/plain": [
       "0.5873015873015873"
      ]
     },
     "execution_count": 85,
     "metadata": {},
     "output_type": "execute_result"
    }
   ],
   "source": [
    "evaluator = MulticlassClassificationEvaluator(labelCol=\"label\", predictionCol=\"prediction\", metricName=\"accuracy\")\n",
    "nbaccuracy = evaluator.evaluate(predictions_df)\n",
    "nbaccuracy"
   ]
  },
  {
   "cell_type": "markdown",
   "id": "a0ffa0a3",
   "metadata": {},
   "source": [
    "### Decision Trees Classification"
   ]
  },
  {
   "cell_type": "code",
   "execution_count": 87,
   "id": "f00916fa",
   "metadata": {},
   "outputs": [
    {
     "data": {
      "text/plain": [
       "0.9365079365079365"
      ]
     },
     "execution_count": 87,
     "metadata": {},
     "output_type": "execute_result"
    }
   ],
   "source": [
    "\n",
    "from pyspark.ml.classification import DecisionTreeClassifier\n",
    "# Define the DT Classifier \n",
    "dt = DecisionTreeClassifier(labelCol=\"label\", featuresCol=\"features\")\n",
    "dt_model = dt.fit(train_df)\n",
    "dt_predictions = dt_model.transform(test_df)\n",
    "# Evaluate the DT Classifier\n",
    "dt_evaluator = MulticlassClassificationEvaluator(labelCol=\"label\", predictionCol=\"prediction\", metricName=\"accuracy\")\n",
    "dt_accuracy = dt_evaluator.evaluate(dt_predictions)\n",
    "dt_accuracy"
   ]
  },
  {
   "cell_type": "code",
   "execution_count": null,
   "id": "5d293a11",
   "metadata": {},
   "outputs": [],
   "source": []
  },
  {
   "cell_type": "markdown",
   "id": "59d74efd",
   "metadata": {},
   "source": [
    "# Regression using PySpark\n",
    "\n",
    "In this section, we explore the Machine learning models for regression problems using pyspark. Regression models are helpful in predicting future values using past data."
   ]
  },
  {
   "cell_type": "code",
   "execution_count": 88,
   "id": "e2e8565b",
   "metadata": {},
   "outputs": [],
   "source": [
    "from pyspark.ml.regression import LinearRegression\n",
    "from pyspark.ml.feature import VectorAssembler"
   ]
  },
  {
   "cell_type": "code",
   "execution_count": 89,
   "id": "12b8ae9a",
   "metadata": {},
   "outputs": [
    {
     "name": "stdout",
     "output_type": "stream",
     "text": [
      "+-----+-----+-------+-----+------+\n",
      "|AT   |V    |AP     |RH   |PE    |\n",
      "+-----+-----+-------+-----+------+\n",
      "|14.96|41.76|1024.07|73.17|463.26|\n",
      "|25.18|62.96|1020.04|59.08|444.37|\n",
      "+-----+-----+-------+-----+------+\n",
      "only showing top 2 rows\n",
      "\n"
     ]
    }
   ],
   "source": [
    "# Read the iris data\n",
    "df_ccpp = pd.read_csv(\"https://raw.githubusercontent.com/amjadraza/blogs-data/master/spark_ml/ccpp.csv\")\n",
    "pp_df = spark.createDataFrame(df_ccpp)\n",
    "pp_df.show(2, False)"
   ]
  },
  {
   "cell_type": "code",
   "execution_count": 90,
   "id": "750d2085",
   "metadata": {},
   "outputs": [
    {
     "name": "stdout",
     "output_type": "stream",
     "text": [
      "+-----+-----+-------+-----+------+---------------------------+\n",
      "|AT   |V    |AP     |RH   |PE    |features                   |\n",
      "+-----+-----+-------+-----+------+---------------------------+\n",
      "|14.96|41.76|1024.07|73.17|463.26|[14.96,41.76,1024.07,73.17]|\n",
      "|25.18|62.96|1020.04|59.08|444.37|[25.18,62.96,1020.04,59.08]|\n",
      "+-----+-----+-------+-----+------+---------------------------+\n",
      "only showing top 2 rows\n",
      "\n"
     ]
    }
   ],
   "source": [
    "# Create the feature column using VectorAssembler class\n",
    "vectorAssembler = VectorAssembler(inputCols =[\"AT\", \"V\", \"AP\", \"RH\"], outputCol = \"features\")\n",
    "vpp_df = vectorAssembler.transform(pp_df)\n",
    "vpp_df.show(2, False)"
   ]
  },
  {
   "cell_type": "markdown",
   "id": "46f77cfe",
   "metadata": {},
   "source": [
    "### Linear Regression\n",
    "We start with the simplest regression technique i.e. Linear Regression."
   ]
  },
  {
   "cell_type": "code",
   "execution_count": 100,
   "id": "bdf7ce5f",
   "metadata": {},
   "outputs": [],
   "source": [
    "# Define and fit Linear Regression\n",
    "lr = LinearRegression(featuresCol=\"features\", labelCol=\"PE\")\n",
    "lr_model = lr.fit(vpp_df)"
   ]
  },
  {
   "cell_type": "code",
   "execution_count": 102,
   "id": "91f221cd",
   "metadata": {},
   "outputs": [
    {
     "data": {
      "text/plain": [
       "0.9286960898122537"
      ]
     },
     "execution_count": 102,
     "metadata": {},
     "output_type": "execute_result"
    }
   ],
   "source": [
    "# Print and save the Model output\n",
    "lr_model.coefficients\n",
    "lr_model.intercept\n",
    "lr_model.summary.r2\n",
    "\n",
    "#lr_model.save()"
   ]
  },
  {
   "cell_type": "markdown",
   "id": "f99ac872",
   "metadata": {},
   "source": [
    "### Decision Tree Regression\n",
    "In this section, we explore the Decision Tree Regression commonly used in Machine learning."
   ]
  },
  {
   "cell_type": "code",
   "execution_count": 98,
   "id": "0c583d00",
   "metadata": {},
   "outputs": [
    {
     "name": "stdout",
     "output_type": "stream",
     "text": [
      "+-----+-----+-------+-----+------+---------------------------+\n",
      "|AT   |V    |AP     |RH   |PE    |features                   |\n",
      "+-----+-----+-------+-----+------+---------------------------+\n",
      "|14.96|41.76|1024.07|73.17|463.26|[14.96,41.76,1024.07,73.17]|\n",
      "|25.18|62.96|1020.04|59.08|444.37|[25.18,62.96,1020.04,59.08]|\n",
      "+-----+-----+-------+-----+------+---------------------------+\n",
      "only showing top 2 rows\n",
      "\n",
      "+----+-----+------+-----+------+-------------------------+------------------+\n",
      "|AT  |V    |AP    |RH   |PE    |features                 |prediction        |\n",
      "+----+-----+------+-----+------+-------------------------+------------------+\n",
      "|3.73|39.42|1024.4|82.42|488.58|[3.73,39.42,1024.4,82.42]|486.64627027027035|\n",
      "+----+-----+------+-----+------+-------------------------+------------------+\n",
      "only showing top 1 row\n",
      "\n",
      "The R Square of Decision Tree regression Model is 0.9305138819663558\n"
     ]
    }
   ],
   "source": [
    "from pyspark.ml.regression import DecisionTreeRegressor\n",
    "from pyspark.ml.evaluation import RegressionEvaluator\n",
    "vpp_df.show(2, False)\n",
    "\n",
    "\n",
    "# Define train and test data split\n",
    "splits = vpp_df.randomSplit([0.7,0.3])\n",
    "train_df = splits[0]\n",
    "test_df = splits[1]\n",
    "# Define the Decision Tree Model \n",
    "dt = DecisionTreeRegressor(featuresCol=\"features\", labelCol=\"PE\")\n",
    "dt_model = dt.fit(train_df)\n",
    "dt_predictions = dt_model.transform(test_df)\n",
    "dt_predictions.show(1, False)\n",
    "\n",
    "\n",
    "# Evaluate the Model\n",
    "dt_evaluator = RegressionEvaluator(labelCol=\"PE\", predictionCol=\"prediction\", metricName=\"r2\")\n",
    "dt_rmse = dt_evaluator.evaluate(dt_predictions)\n",
    "print(\"The R Square of Decision Tree regression Model is {}\".format(dt_rmse))\n"
   ]
  },
  {
   "cell_type": "code",
   "execution_count": null,
   "id": "36779700",
   "metadata": {},
   "outputs": [],
   "source": []
  },
  {
   "cell_type": "markdown",
   "id": "3d2d2a65",
   "metadata": {},
   "source": [
    "### Gradient Boosting Decision Tree Regression\n",
    "Gradient Boosting is another common choice among ML professionals. Let us try the GBM in this section."
   ]
  },
  {
   "cell_type": "code",
   "execution_count": 103,
   "id": "a9ed0c2a",
   "metadata": {},
   "outputs": [
    {
     "name": "stdout",
     "output_type": "stream",
     "text": [
      "The R square of GBT Tree regression Model is 0.9454720080073261\n"
     ]
    }
   ],
   "source": [
    "from pyspark.ml.regression import GBTRegressor\n",
    "# Define the GBT Model\n",
    "gbt = GBTRegressor(featuresCol=\"features\", labelCol=\"PE\")\n",
    "gbt_model = gbt.fit(train_df)\n",
    "gbt_predictions = gbt_model.transform(test_df)\n",
    "# Evaluate the GBT Model\n",
    "gbt_evaluator = RegressionEvaluator(labelCol=\"PE\", predictionCol=\"prediction\", metricName=\"r2\")\n",
    "gbt_rmse = gbt_evaluator.evaluate(gbt_predictions)\n",
    "print(\"The R square of GBT Tree regression Model is {}\".format(gbt_rmse))"
   ]
  },
  {
   "cell_type": "code",
   "execution_count": null,
   "id": "6394ea96",
   "metadata": {},
   "outputs": [],
   "source": []
  }
 ],
 "metadata": {
  "kernelspec": {
   "display_name": "Python 3 (ipykernel)",
   "language": "python",
   "name": "python3"
  },
  "language_info": {
   "codemirror_mode": {
    "name": "ipython",
    "version": 3
   },
   "file_extension": ".py",
   "mimetype": "text/x-python",
   "name": "python",
   "nbconvert_exporter": "python",
   "pygments_lexer": "ipython3",
   "version": "3.8.12"
  }
 },
 "nbformat": 4,
 "nbformat_minor": 5
}
